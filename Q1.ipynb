{
 "cells": [
  {
   "cell_type": "code",
   "execution_count": null,
   "id": "7451d0e5-306d-42ee-8dcf-f34da40e9dfa",
   "metadata": {},
   "outputs": [],
   "source": [
    "#variable containing string "
   ]
  },
  {
   "cell_type": "code",
   "execution_count": 3,
   "id": "d4936f7b-34ef-4fe3-82d7-119410d21716",
   "metadata": {},
   "outputs": [],
   "source": [
    "A =\"Ayush\""
   ]
  },
  {
   "cell_type": "code",
   "execution_count": 8,
   "id": "caa4a601-d9b7-4be3-9efe-4380729a13c1",
   "metadata": {},
   "outputs": [
    {
     "data": {
      "text/plain": [
       "str"
      ]
     },
     "execution_count": 8,
     "metadata": {},
     "output_type": "execute_result"
    }
   ],
   "source": [
    "type(A)"
   ]
  },
  {
   "cell_type": "code",
   "execution_count": null,
   "id": "a4a21bdd-7e7b-4131-88c3-a84a27c42a08",
   "metadata": {},
   "outputs": [],
   "source": [
    "#variable for list"
   ]
  },
  {
   "cell_type": "code",
   "execution_count": 10,
   "id": "6bbda530-049c-4c0c-bc4c-5ddb8eaee0b0",
   "metadata": {},
   "outputs": [
    {
     "data": {
      "text/plain": [
       "list"
      ]
     },
     "execution_count": 10,
     "metadata": {},
     "output_type": "execute_result"
    }
   ],
   "source": [
    "list =[1,2,3,'ayush',23.4,True]\n",
    "type(list)"
   ]
  },
  {
   "cell_type": "code",
   "execution_count": null,
   "id": "090543b0-1284-4cbd-8c9b-784c7e49c1d6",
   "metadata": {},
   "outputs": [],
   "source": [
    "#variable for float "
   ]
  },
  {
   "cell_type": "code",
   "execution_count": 11,
   "id": "0b132c66-13a1-45da-98ef-626164c6c25f",
   "metadata": {},
   "outputs": [
    {
     "data": {
      "text/plain": [
       "float"
      ]
     },
     "execution_count": 11,
     "metadata": {},
     "output_type": "execute_result"
    }
   ],
   "source": [
    "A=23.5\n",
    "type(A)"
   ]
  },
  {
   "cell_type": "code",
   "execution_count": null,
   "id": "25f42475-1c3c-4301-84c1-a2406bbd91ea",
   "metadata": {},
   "outputs": [],
   "source": [
    "#variable for tuple "
   ]
  },
  {
   "cell_type": "code",
   "execution_count": 13,
   "id": "e5f5499e-c348-487e-b9c3-a7ebb5e06279",
   "metadata": {},
   "outputs": [
    {
     "data": {
      "text/plain": [
       "tuple"
      ]
     },
     "execution_count": 13,
     "metadata": {},
     "output_type": "execute_result"
    }
   ],
   "source": [
    "A=(1,2,3,\"four\",\"Five\")\n",
    "type(A)"
   ]
  }
 ],
 "metadata": {
  "kernelspec": {
   "display_name": "Python 3 (ipykernel)",
   "language": "python",
   "name": "python3"
  },
  "language_info": {
   "codemirror_mode": {
    "name": "ipython",
    "version": 3
   },
   "file_extension": ".py",
   "mimetype": "text/x-python",
   "name": "python",
   "nbconvert_exporter": "python",
   "pygments_lexer": "ipython3",
   "version": "3.10.8"
  }
 },
 "nbformat": 4,
 "nbformat_minor": 5
}
