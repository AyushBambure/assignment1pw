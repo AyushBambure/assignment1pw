{
 "cells": [
  {
   "cell_type": "code",
   "execution_count": 1,
   "id": "479c590a-dcf1-495c-8c16-c65df0aeb1ef",
   "metadata": {},
   "outputs": [
    {
     "name": "stdout",
     "output_type": "stream",
     "text": [
      "21 is divisible by 3\n",
      "21 is divisible by 3\n",
      "40 is not divisible by 3\n",
      "38 is not divisible by 3\n",
      "64 is not divisible by 3\n",
      "63 is divisible by 3\n",
      "26 is not divisible by 3\n",
      "25 is not divisible by 3\n",
      "8 is not divisible by 3\n",
      "55 is not divisible by 3\n",
      "4 is not divisible by 3\n",
      "66 is divisible by 3\n",
      "15 is divisible by 3\n",
      "52 is not divisible by 3\n",
      "89 is not divisible by 3\n",
      "83 is not divisible by 3\n",
      "26 is not divisible by 3\n",
      "50 is not divisible by 3\n",
      "50 is not divisible by 3\n",
      "25 is not divisible by 3\n",
      "39 is divisible by 3\n",
      "87 is divisible by 3\n",
      "13 is not divisible by 3\n",
      "54 is divisible by 3\n",
      "27 is divisible by 3\n"
     ]
    }
   ],
   "source": [
    "import random\n",
    "\n",
    "numbers = [random.randint(1, 100) for _ in range(25)]\n",
    "\n",
    "for num in numbers:\n",
    "    if num % 3 == 0:\n",
    "        print(f\"{num} is divisible by 3\")\n",
    "    else:\n",
    "        print(f\"{num} is not divisible by 3\")\n"
   ]
  },
  {
   "cell_type": "code",
   "execution_count": null,
   "id": "621c4cdd-7290-49e2-8e68-0ab5c76f58eb",
   "metadata": {},
   "outputs": [],
   "source": []
  }
 ],
 "metadata": {
  "kernelspec": {
   "display_name": "Python 3 (ipykernel)",
   "language": "python",
   "name": "python3"
  },
  "language_info": {
   "codemirror_mode": {
    "name": "ipython",
    "version": 3
   },
   "file_extension": ".py",
   "mimetype": "text/x-python",
   "name": "python",
   "nbconvert_exporter": "python",
   "pygments_lexer": "ipython3",
   "version": "3.10.8"
  }
 },
 "nbformat": 4,
 "nbformat_minor": 5
}
