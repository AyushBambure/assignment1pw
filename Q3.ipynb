{
 "cells": [
  {
   "cell_type": "code",
   "execution_count": 1,
   "id": "dbb59de0-91b6-4aa4-9990-36d13a06f902",
   "metadata": {},
   "outputs": [
    {
     "data": {
      "text/plain": [
       "2.0"
      ]
     },
     "execution_count": 1,
     "metadata": {},
     "output_type": "execute_result"
    }
   ],
   "source": [
    "#use of / operator \n",
    "#it is used for division\n",
    "\n",
    "4/2"
   ]
  },
  {
   "cell_type": "code",
   "execution_count": 2,
   "id": "3d05b935-d08e-4620-90e3-7986c67e46c9",
   "metadata": {},
   "outputs": [
    {
     "data": {
      "text/plain": [
       "0"
      ]
     },
     "execution_count": 2,
     "metadata": {},
     "output_type": "execute_result"
    }
   ],
   "source": [
    "#use of % operator \n",
    "# it is used to get remainder of division \n",
    "\n",
    "4%2"
   ]
  },
  {
   "cell_type": "code",
   "execution_count": 5,
   "id": "6706deec-bc3f-4155-a572-cdd25f3e1046",
   "metadata": {},
   "outputs": [
    {
     "data": {
      "text/plain": [
       "2"
      ]
     },
     "execution_count": 5,
     "metadata": {},
     "output_type": "execute_result"
    }
   ],
   "source": [
    "#use of // operator\n",
    "# It performs integer division, rounding down to the nearest integer.\n",
    "\n",
    "5//2"
   ]
  },
  {
   "cell_type": "code",
   "execution_count": 6,
   "id": "29b782e2-288f-42fa-80ef-c909e2b0c6b6",
   "metadata": {},
   "outputs": [
    {
     "data": {
      "text/plain": [
       "4"
      ]
     },
     "execution_count": 6,
     "metadata": {},
     "output_type": "execute_result"
    }
   ],
   "source": [
    "#use of ** operator \n",
    "# It is used to power of digit \n",
    "\n",
    "2**2"
   ]
  }
 ],
 "metadata": {
  "kernelspec": {
   "display_name": "Python 3 (ipykernel)",
   "language": "python",
   "name": "python3"
  },
  "language_info": {
   "codemirror_mode": {
    "name": "ipython",
    "version": 3
   },
   "file_extension": ".py",
   "mimetype": "text/x-python",
   "name": "python",
   "nbconvert_exporter": "python",
   "pygments_lexer": "ipython3",
   "version": "3.10.8"
  }
 },
 "nbformat": 4,
 "nbformat_minor": 5
}
