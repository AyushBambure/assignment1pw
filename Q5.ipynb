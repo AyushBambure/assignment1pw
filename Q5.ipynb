{
 "cells": [
  {
   "cell_type": "code",
   "execution_count": 8,
   "id": "bc3be0fd-3e11-4e04-a3df-5bf376e46c41",
   "metadata": {},
   "outputs": [
    {
     "name": "stdout",
     "output_type": "stream",
     "text": [
      "2 is divisible by 5, 1 times\n"
     ]
    }
   ],
   "source": [
    "a = 10\n",
    "b = 5\n",
    "count= 0\n",
    "\n",
    "while a % b == 0:\n",
    "    a //= b  \n",
    "    count+=1\n",
    "\n",
    "if count> 0:\n",
    "    print(f\"{a} is divisible by {b}, {count} times\")\n",
    "else:\n",
    "    print(f\"{a} is not divisible by {b}\")\n"
   ]
  }
 ],
 "metadata": {
  "kernelspec": {
   "display_name": "Python 3 (ipykernel)",
   "language": "python",
   "name": "python3"
  },
  "language_info": {
   "codemirror_mode": {
    "name": "ipython",
    "version": 3
   },
   "file_extension": ".py",
   "mimetype": "text/x-python",
   "name": "python",
   "nbconvert_exporter": "python",
   "pygments_lexer": "ipython3",
   "version": "3.10.8"
  }
 },
 "nbformat": 4,
 "nbformat_minor": 5
}
