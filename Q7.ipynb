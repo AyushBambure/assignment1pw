{
 "cells": [
  {
   "cell_type": "code",
   "execution_count": null,
   "id": "731694f7-913b-48a0-932f-a74d9d9ce073",
   "metadata": {},
   "outputs": [],
   "source": [
    "#Immutable data types are those whose state cannot be changed once they are created."
   ]
  },
  {
   "cell_type": "code",
   "execution_count": null,
   "id": "5c59eaf9-8ea0-4377-a1e4-9df69cd08e81",
   "metadata": {},
   "outputs": [],
   "source": [
    "#example for Immutable"
   ]
  },
  {
   "cell_type": "code",
   "execution_count": 6,
   "id": "b5266df2-3f84-45df-83a8-39fd8b90143c",
   "metadata": {},
   "outputs": [
    {
     "name": "stdout",
     "output_type": "stream",
     "text": [
      "John\n",
      "John\n"
     ]
    }
   ],
   "source": [
    "name = \"John\"\n",
    "print(name)  \n",
    "John= \" Doe\"\n",
    "print(name) "
   ]
  },
  {
   "cell_type": "code",
   "execution_count": null,
   "id": "944f25e7-e7b3-4995-8252-588b4a226b4f",
   "metadata": {},
   "outputs": [],
   "source": [
    "#mutable data types are those whose state can be modified after they are created."
   ]
  },
  {
   "cell_type": "code",
   "execution_count": null,
   "id": "533a97d0-597b-4ffe-a4bb-60e3bd5212d7",
   "metadata": {},
   "outputs": [],
   "source": [
    "#example for mutable"
   ]
  },
  {
   "cell_type": "code",
   "execution_count": 8,
   "id": "6002f5f7-92ad-4a8f-a299-787e697ec19d",
   "metadata": {},
   "outputs": [
    {
     "name": "stdout",
     "output_type": "stream",
     "text": [
      "[1, 2, 3, 4, 5]\n",
      "[1, 2, 3, 4, 5, 6]\n",
      "[1, 2, 3, 4, 5, 6]\n"
     ]
    }
   ],
   "source": [
    "numbers = [1, 2, 3, 4, 5]\n",
    "print(numbers) \n",
    "\n",
    "\n",
    "numbers.append(6)\n",
    "print(numbers)  \n",
    "#updated no.\n",
    "print(numbers)  \n"
   ]
  }
 ],
 "metadata": {
  "kernelspec": {
   "display_name": "Python 3 (ipykernel)",
   "language": "python",
   "name": "python3"
  },
  "language_info": {
   "codemirror_mode": {
    "name": "ipython",
    "version": 3
   },
   "file_extension": ".py",
   "mimetype": "text/x-python",
   "name": "python",
   "nbconvert_exporter": "python",
   "pygments_lexer": "ipython3",
   "version": "3.10.8"
  }
 },
 "nbformat": 4,
 "nbformat_minor": 5
}
